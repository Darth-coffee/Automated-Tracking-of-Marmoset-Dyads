{
 "cells": [
  {
   "cell_type": "code",
   "execution_count": 10,
   "id": "7194d1d0",
   "metadata": {},
   "outputs": [
    {
     "name": "stdout",
     "output_type": "stream",
     "text": [
      "Defaulting to user installation because normal site-packages is not writeable\n",
      "Requirement already satisfied: pyqt5 in c:\\users\\ps_22_2\\appdata\\roaming\\python\\python310\\site-packages (5.15.9)\n",
      "Requirement already satisfied: pyqt5-tools in c:\\users\\ps_22_2\\appdata\\roaming\\python\\python310\\site-packages (5.15.9.3.3)\n",
      "Requirement already satisfied: PyQt5-Qt5>=5.15.2 in c:\\users\\ps_22_2\\appdata\\roaming\\python\\python310\\site-packages (from pyqt5) (5.15.2)\n",
      "Requirement already satisfied: PyQt5-sip<13,>=12.11 in c:\\programdata\\anaconda3\\lib\\site-packages (from pyqt5) (12.11.0)\n",
      "Requirement already satisfied: python-dotenv in c:\\users\\ps_22_2\\appdata\\roaming\\python\\python310\\site-packages (from pyqt5-tools) (1.1.0)\n",
      "Requirement already satisfied: click in c:\\programdata\\anaconda3\\lib\\site-packages (from pyqt5-tools) (8.0.4)\n",
      "Requirement already satisfied: pyqt5-plugins<5.15.9.3,>=5.15.9.2.2 in c:\\users\\ps_22_2\\appdata\\roaming\\python\\python310\\site-packages (from pyqt5-tools) (5.15.9.2.3)\n",
      "Requirement already satisfied: qt5-tools<5.15.2.2,>=5.15.2.1.2 in c:\\users\\ps_22_2\\appdata\\roaming\\python\\python310\\site-packages (from pyqt5-plugins<5.15.9.3,>=5.15.9.2.2->pyqt5-tools) (5.15.2.1.3)\n",
      "Requirement already satisfied: colorama in c:\\programdata\\anaconda3\\lib\\site-packages (from click->pyqt5-tools) (0.4.6)\n",
      "Requirement already satisfied: qt5-applications<5.15.2.3,>=5.15.2.2.2 in c:\\users\\ps_22_2\\appdata\\roaming\\python\\python310\\site-packages (from qt5-tools<5.15.2.2,>=5.15.2.1.2->pyqt5-plugins<5.15.9.3,>=5.15.9.2.2->pyqt5-tools) (5.15.2.2.3)\n"
     ]
    }
   ],
   "source": [
    "!pip install pyqt5 pyqt5-tools\n"
   ]
  },
  {
   "cell_type": "code",
   "execution_count": 2,
   "id": "30668fb4",
   "metadata": {},
   "outputs": [],
   "source": [
    "import os\n",
    "\n",
    "os.makedirs(\"marmoset_dataset/images/train\", exist_ok=True)\n",
    "os.makedirs(\"marmoset_dataset/labels/train\", exist_ok=True)\n"
   ]
  },
  {
   "cell_type": "markdown",
   "id": "e7908437",
   "metadata": {},
   "source": [
    "### To extract frames at specified frequency from a video"
   ]
  },
  {
   "cell_type": "code",
   "execution_count": null,
   "id": "9287f5d3",
   "metadata": {},
   "outputs": [
    {
     "name": "stdout",
     "output_type": "stream",
     "text": [
      "Extracted 57 frames from 'JM_pro1_cam11_post'.\n"
     ]
    }
   ],
   "source": [
    "import cv2\n",
    "import os\n",
    "\n",
    "video_path = \"Z:/PS/2_ERC/Videos/vasudhabehavsync/DLC_labelling/Jupie-Mercur/JM_pre_post_task_videos/JM_pro1_cam11_post.mp4\"\n",
    "output_dir = \"D:/DeepSORT_ML2025/Scripts/marmoset_dataset/overlap/frames\"\n",
    "fps = 0.5\n",
    "\n",
    "# Extract the video name without extension\n",
    "video_name = os.path.splitext(os.path.basename(video_path))[0]\n",
    "\n",
    "# Create the output directory if it doesn't exist\n",
    "os.makedirs(output_dir, exist_ok=True)\n",
    "\n",
    "cap = cv2.VideoCapture(video_path)\n",
    "count = 0\n",
    "frame_id = 0\n",
    "success = True\n",
    "video_fps = cap.get(cv2.CAP_PROP_FPS)\n",
    "interval = int(video_fps // fps)\n",
    "\n",
    "while success:\n",
    "    success, frame = cap.read()\n",
    "    if not success:\n",
    "        break\n",
    "\n",
    "    if count % interval == 0:\n",
    "        frame_name = f\"{video_name}_frame_{frame_id:04d}.jpg\"\n",
    "        cv2.imwrite(os.path.join(output_dir, frame_name), frame)\n",
    "        frame_id += 1\n",
    "    count += 1\n",
    "\n",
    "cap.release()\n",
    "print(f\"Extracted {frame_id} frames from '{video_name}'.\")\n"
   ]
  },
  {
   "cell_type": "markdown",
   "id": "b1d4d45e",
   "metadata": {},
   "source": [
    "### To extract frames at specified frequency from all videos in a directory"
   ]
  },
  {
   "cell_type": "code",
   "execution_count": null,
   "id": "10567c7a",
   "metadata": {},
   "outputs": [
    {
     "name": "stdout",
     "output_type": "stream",
     "text": [
      "Processing 'NuNo_rew2_cam11_pre.mp4' at 0.3 fps (79 frame interval)...\n",
      "Extracted 37 frames from 'NuNo_rew2_cam11_pre' into 'D:\\DeepSORT_ML2025\\video_stitch\\new\\label\\NuNo_rew2_cam11_pre'.\n",
      "Processing 'NuNy_ind2_cam11_pre.mp4' at 0.3 fps (79 frame interval)...\n",
      "Extracted 37 frames from 'NuNy_ind2_cam11_pre' into 'D:\\DeepSORT_ML2025\\video_stitch\\new\\label\\NuNy_ind2_cam11_pre'.\n",
      "Processing 'NyNo_pro2_cam15_pre.mp4' at 0.3 fps (79 frame interval)...\n",
      "Extracted 37 frames from 'NyNo_pro2_cam15_pre' into 'D:\\DeepSORT_ML2025\\video_stitch\\new\\label\\NyNo_pro2_cam15_pre'.\n",
      "All videos processed.\n"
     ]
    }
   ],
   "source": [
    "import cv2\n",
    "import os\n",
    "\n",
    "input_dir = r\"D:\\DeepSORT_ML2025\\video_stitch\\new\\Extraction_vid\"\n",
    "output_dir = r\"D:\\DeepSORT_ML2025\\video_stitch\\new\\label\"\n",
    "fps =0.3 \n",
    "\n",
    "# Create the main output directory if it doesn't exist\n",
    "os.makedirs(output_dir, exist_ok=True)\n",
    "\n",
    "# List all video files (you can filter extensions if needed)\n",
    "video_files = [f for f in os.listdir(input_dir) if f.lower().endswith(('.mp4', '.avi', '.mov', '.mkv'))]\n",
    "\n",
    "for video_file in video_files:\n",
    "    video_path = os.path.join(input_dir, video_file)\n",
    "    video_name = os.path.splitext(video_file)[0]\n",
    "    video_output_dir = os.path.join(output_dir, video_name)\n",
    "    os.makedirs(video_output_dir, exist_ok=True)\n",
    "\n",
    "    cap = cv2.VideoCapture(video_path)\n",
    "    if not cap.isOpened():\n",
    "        print(f\"Failed to open video: {video_file}\")\n",
    "        continue\n",
    "\n",
    "    count = 0\n",
    "    frame_id = 0\n",
    "    success = True\n",
    "    video_fps = cap.get(cv2.CAP_PROP_FPS)\n",
    "    if video_fps == 0:\n",
    "        print(f\"Cannot read FPS from video: {video_file}\")\n",
    "        cap.release()\n",
    "        continue\n",
    "    interval = int(video_fps // fps)\n",
    "\n",
    "    print(f\"Processing '{video_file}' at {fps} fps ({interval} frame interval)...\")\n",
    "\n",
    "    while success:\n",
    "        success, frame = cap.read()\n",
    "        if not success:\n",
    "            break\n",
    "\n",
    "        if count % interval == 0:\n",
    "            frame_name = f\"{video_name}_frame_{frame_id:04d}.jpg\"\n",
    "            frame_path = os.path.join(video_output_dir, frame_name)\n",
    "            cv2.imwrite(frame_path, frame)\n",
    "            frame_id += 1\n",
    "        count += 1\n",
    "\n",
    "    cap.release()\n",
    "    print(f\"Extracted {frame_id} frames from '{video_name}' into '{video_output_dir}'.\")\n",
    "\n",
    "print(\"All videos processed.\")\n"
   ]
  },
  {
   "cell_type": "markdown",
   "id": "12cd105b",
   "metadata": {},
   "source": [
    "## Run this first and then the next cell to label"
   ]
  },
  {
   "cell_type": "code",
   "execution_count": 13,
   "id": "feedb0c7",
   "metadata": {},
   "outputs": [
    {
     "name": "stdout",
     "output_type": "stream",
     "text": [
      "d:\\DeepSORT_ML2025\\Scripts\\labelImg\\labelImg\n"
     ]
    },
    {
     "name": "stderr",
     "output_type": "stream",
     "text": [
      "fatal: destination path 'labelImg' already exists and is not an empty directory.\n"
     ]
    }
   ],
   "source": [
    "# Clone only once\n",
    "!git clone https://github.com/tzutalin/labelImg.git\n",
    "\n",
    "# Change directory to labelImg\n",
    "%cd labelImg\n",
    "\n",
    "# Build Qt resources\n",
    "!python -m PyQt5.pyrcc_main resources.qrc -o libs/resources.py\n"
   ]
  },
  {
   "cell_type": "code",
   "execution_count": 15,
   "id": "0b07bf21",
   "metadata": {},
   "outputs": [
    {
     "name": "stdout",
     "output_type": "stream",
     "text": [
      "Not find:/data/predefined_classes.txt (optional)\n",
      "Image:D:\\DeepSORT_ML2025\\video_stitch\\new\\label\\NuNo_rew2_cam11_pre_frame_0001.jpg -> Annotation:D:/DeepSORT_ML2025/video_stitch/new/label\\NuNo_rew2_cam11_pre_frame_0001.txt\n",
      "Image:D:\\DeepSORT_ML2025\\video_stitch\\new\\label\\NuNo_rew2_cam11_pre_frame_0002.jpg -> Annotation:D:/DeepSORT_ML2025/video_stitch/new/label\\NuNo_rew2_cam11_pre_frame_0002.txt\n",
      "Image:D:\\DeepSORT_ML2025\\video_stitch\\new\\label\\NuNo_rew2_cam11_pre_frame_0002.jpg -> Annotation:D:/DeepSORT_ML2025/video_stitch/new/label\\NuNo_rew2_cam11_pre_frame_0002.txt\n",
      "Image:D:\\DeepSORT_ML2025\\video_stitch\\new\\label\\NuNo_rew2_cam11_pre_frame_0003.jpg -> Annotation:D:/DeepSORT_ML2025/video_stitch/new/label\\NuNo_rew2_cam11_pre_frame_0003.txt\n",
      "Image:D:\\DeepSORT_ML2025\\video_stitch\\new\\label\\NuNo_rew2_cam11_pre_frame_0006.jpg -> Annotation:D:/DeepSORT_ML2025/video_stitch/new/label\\NuNo_rew2_cam11_pre_frame_0006.txt\n",
      "Image:D:\\DeepSORT_ML2025\\video_stitch\\new\\label\\NuNo_rew2_cam11_pre_frame_0013.jpg -> Annotation:D:/DeepSORT_ML2025/video_stitch/new/label\\NuNo_rew2_cam11_pre_frame_0013.txt\n",
      "Image:D:\\DeepSORT_ML2025\\video_stitch\\new\\label\\NuNo_rew2_cam11_pre_frame_0014.jpg -> Annotation:D:/DeepSORT_ML2025/video_stitch/new/label\\NuNo_rew2_cam11_pre_frame_0014.txt\n",
      "Image:D:\\DeepSORT_ML2025\\video_stitch\\new\\label\\NuNo_rew2_cam11_pre_frame_0018.jpg -> Annotation:D:/DeepSORT_ML2025/video_stitch/new/label\\NuNo_rew2_cam11_pre_frame_0018.txt\n",
      "Image:D:\\DeepSORT_ML2025\\video_stitch\\new\\label\\NuNo_rew2_cam11_pre_frame_0020.jpg -> Annotation:D:/DeepSORT_ML2025/video_stitch/new/label\\NuNo_rew2_cam11_pre_frame_0020.txt\n",
      "Image:D:\\DeepSORT_ML2025\\video_stitch\\new\\label\\NuNo_rew2_cam11_pre_frame_0022.jpg -> Annotation:D:/DeepSORT_ML2025/video_stitch/new/label\\NuNo_rew2_cam11_pre_frame_0022.txt\n",
      "Image:D:\\DeepSORT_ML2025\\video_stitch\\new\\label\\NuNo_rew2_cam11_pre_frame_0023.jpg -> Annotation:D:/DeepSORT_ML2025/video_stitch/new/label\\NuNo_rew2_cam11_pre_frame_0023.txt\n",
      "Image:D:\\DeepSORT_ML2025\\video_stitch\\new\\label\\NuNy_ind2_cam11_pre_frame_0001.jpg -> Annotation:D:/DeepSORT_ML2025/video_stitch/new/label\\NuNy_ind2_cam11_pre_frame_0001.txt\n",
      "Image:D:\\DeepSORT_ML2025\\video_stitch\\new\\label\\NuNy_ind2_cam11_pre_frame_0004.jpg -> Annotation:D:/DeepSORT_ML2025/video_stitch/new/label\\NuNy_ind2_cam11_pre_frame_0004.txt\n",
      "Image:D:\\DeepSORT_ML2025\\video_stitch\\new\\label\\NuNy_ind2_cam11_pre_frame_0005.jpg -> Annotation:D:/DeepSORT_ML2025/video_stitch/new/label\\NuNy_ind2_cam11_pre_frame_0005.txt\n",
      "Image:D:\\DeepSORT_ML2025\\video_stitch\\new\\label\\NuNy_ind2_cam11_pre_frame_0006.jpg -> Annotation:D:/DeepSORT_ML2025/video_stitch/new/label\\NuNy_ind2_cam11_pre_frame_0006.txt\n",
      "Image:D:\\DeepSORT_ML2025\\video_stitch\\new\\label\\NuNy_ind2_cam11_pre_frame_0009.jpg -> Annotation:D:/DeepSORT_ML2025/video_stitch/new/label\\NuNy_ind2_cam11_pre_frame_0009.txt\n",
      "Image:D:\\DeepSORT_ML2025\\video_stitch\\new\\label\\NuNy_ind2_cam11_pre_frame_0010.jpg -> Annotation:D:/DeepSORT_ML2025/video_stitch/new/label\\NuNy_ind2_cam11_pre_frame_0010.txt\n",
      "Image:D:\\DeepSORT_ML2025\\video_stitch\\new\\label\\NuNy_ind2_cam11_pre_frame_0012.jpg -> Annotation:D:/DeepSORT_ML2025/video_stitch/new/label\\NuNy_ind2_cam11_pre_frame_0012.txt\n",
      "Image:D:\\DeepSORT_ML2025\\video_stitch\\new\\label\\NuNy_ind2_cam11_pre_frame_0014.jpg -> Annotation:D:/DeepSORT_ML2025/video_stitch/new/label\\NuNy_ind2_cam11_pre_frame_0014.txt\n",
      "[('marmoset', [(271, 615), (966, 615), (966, 841), (271, 841)], None, None, False), ('marmoset', [(1613, 42), (1826, 42), (1826, 741), (1613, 741)], None, None, False)]\n",
      "Image:D:\\DeepSORT_ML2025\\video_stitch\\new\\label\\NuNy_ind2_cam11_pre_frame_0018.jpg -> Annotation:D:/DeepSORT_ML2025/video_stitch/new/label\\NuNy_ind2_cam11_pre_frame_0018.txt\n",
      "Image:D:\\DeepSORT_ML2025\\video_stitch\\new\\label\\NuNy_ind2_cam11_pre_frame_0019.jpg -> Annotation:D:/DeepSORT_ML2025/video_stitch/new/label\\NuNy_ind2_cam11_pre_frame_0019.txt\n",
      "Image:D:\\DeepSORT_ML2025\\video_stitch\\new\\label\\NuNy_ind2_cam11_pre_frame_0019.jpg -> Annotation:D:/DeepSORT_ML2025/video_stitch/new/label\\NuNy_ind2_cam11_pre_frame_0019.txt\n",
      "Image:D:\\DeepSORT_ML2025\\video_stitch\\new\\label\\NuNy_ind2_cam11_pre_frame_0020.jpg -> Annotation:D:/DeepSORT_ML2025/video_stitch/new/label\\NuNy_ind2_cam11_pre_frame_0020.txt\n",
      "Image:D:\\DeepSORT_ML2025\\video_stitch\\new\\label\\NuNy_ind2_cam11_pre_frame_0020.jpg -> Annotation:D:/DeepSORT_ML2025/video_stitch/new/label\\NuNy_ind2_cam11_pre_frame_0020.txt\n",
      "Image:D:\\DeepSORT_ML2025\\video_stitch\\new\\label\\NuNy_ind2_cam11_pre_frame_0021.jpg -> Annotation:D:/DeepSORT_ML2025/video_stitch/new/label\\NuNy_ind2_cam11_pre_frame_0021.txt\n",
      "Image:D:\\DeepSORT_ML2025\\video_stitch\\new\\label\\NuNy_ind2_cam11_pre_frame_0022.jpg -> Annotation:D:/DeepSORT_ML2025/video_stitch/new/label\\NuNy_ind2_cam11_pre_frame_0022.txt\n",
      "Image:D:\\DeepSORT_ML2025\\video_stitch\\new\\label\\NuNy_ind2_cam11_pre_frame_0029.jpg -> Annotation:D:/DeepSORT_ML2025/video_stitch/new/label\\NuNy_ind2_cam11_pre_frame_0029.txt\n",
      "Image:D:\\DeepSORT_ML2025\\video_stitch\\new\\label\\NuNy_ind2_cam11_pre_frame_0030.jpg -> Annotation:D:/DeepSORT_ML2025/video_stitch/new/label\\NuNy_ind2_cam11_pre_frame_0030.txt\n",
      "Image:D:\\DeepSORT_ML2025\\video_stitch\\new\\label\\NuNy_ind2_cam11_pre_frame_0036.jpg -> Annotation:D:/DeepSORT_ML2025/video_stitch/new/label\\NuNy_ind2_cam11_pre_frame_0036.txt\n",
      "Image:D:\\DeepSORT_ML2025\\video_stitch\\new\\label\\NyNo_pro2_cam15_pre_frame_0005.jpg -> Annotation:D:/DeepSORT_ML2025/video_stitch/new/label\\NyNo_pro2_cam15_pre_frame_0005.txt\n",
      "Image:D:\\DeepSORT_ML2025\\video_stitch\\new\\label\\NyNo_pro2_cam15_pre_frame_0007.jpg -> Annotation:D:/DeepSORT_ML2025/video_stitch/new/label\\NyNo_pro2_cam15_pre_frame_0007.txt\n",
      "Image:D:\\DeepSORT_ML2025\\video_stitch\\new\\label\\NyNo_pro2_cam15_pre_frame_0009.jpg -> Annotation:D:/DeepSORT_ML2025/video_stitch/new/label\\NyNo_pro2_cam15_pre_frame_0009.txt\n"
     ]
    }
   ],
   "source": [
    "!python labelImg.py ../marmoset_dataset/overlap ../classes.txt\n"
   ]
  }
 ],
 "metadata": {
  "kernelspec": {
   "display_name": "base",
   "language": "python",
   "name": "python3"
  },
  "language_info": {
   "codemirror_mode": {
    "name": "ipython",
    "version": 3
   },
   "file_extension": ".py",
   "mimetype": "text/x-python",
   "name": "python",
   "nbconvert_exporter": "python",
   "pygments_lexer": "ipython3",
   "version": "3.10.9"
  }
 },
 "nbformat": 4,
 "nbformat_minor": 5
}
